{
 "cells": [
  {
   "cell_type": "markdown",
   "id": "fff56b76",
   "metadata": {},
   "source": [
    "---   \n",
    " <img align=\"left\" width=\"75\" height=\"75\"  src=\"https://upload.wikimedia.org/wikipedia/en/c/c8/University_of_the_Punjab_logo.png\"> \n",
    "\n",
    "<h1 align=\"center\">Department of Data Science</h1>\n",
    "<h1 align=\"center\">Course: Natural Langurage Processing</h1>\n",
    "\n",
    "---\n",
    "<h3><div align=\"right\">Instructor: Dr. Khurram Shahzad</div></h3>  \n",
    "<h4><div align=\"right\">Student: Kiran Khursheed (MSDSF21M004)</div></h4>"
   ]
  },
  {
   "cell_type": "markdown",
   "id": "05dbb7e4",
   "metadata": {},
   "source": [
    "<h1 align=\"center\">Medical Alert Sytem Reviews Scraping</h1>"
   ]
  },
  {
   "cell_type": "markdown",
   "id": "117c331e",
   "metadata": {},
   "source": [
    "## Medical Alert System Reviews Scraping\n",
    "#### Scrape reviews from Medical Alert System (Medical Guardian)"
   ]
  },
  {
   "cell_type": "markdown",
   "id": "54a91a6c",
   "metadata": {},
   "source": [
    "##### Reference: https://www.medicalguardian.com/"
   ]
  },
  {
   "cell_type": "markdown",
   "id": "edcad3fd",
   "metadata": {},
   "source": [
    "<img align=\"left\" width=\"500\" height=\"300\"  src=\"images/healthcare_verizon_report.png\"  >\n",
    "<img align=\"center\" width=\"400\" height=\"250\"  src=\"images/Medical_Guardian_Logo.jpg\"  >"
   ]
  },
  {
   "cell_type": "code",
   "execution_count": 1,
   "id": "46d5b204",
   "metadata": {},
   "outputs": [
    {
     "data": {
      "application/javascript": [
       "IPython.OutputArea.prototype._should_scroll = function(lines) {\n",
       "    return false;\n",
       "}\n"
      ],
      "text/plain": [
       "<IPython.core.display.Javascript object>"
      ]
     },
     "metadata": {},
     "output_type": "display_data"
    }
   ],
   "source": [
    "%%javascript\n",
    "IPython.OutputArea.prototype._should_scroll = function(lines) {\n",
    "    return false;\n",
    "}"
   ]
  },
  {
   "cell_type": "markdown",
   "id": "43b34434",
   "metadata": {},
   "source": [
    "##### Import required modules "
   ]
  },
  {
   "cell_type": "code",
   "execution_count": 2,
   "id": "f53c44cd",
   "metadata": {},
   "outputs": [],
   "source": [
    "import requests\n",
    "from bs4 import BeautifulSoup\n",
    "import pandas as pd\n",
    "from time import sleep"
   ]
  },
  {
   "cell_type": "code",
   "execution_count": 3,
   "id": "5466baa0",
   "metadata": {},
   "outputs": [
    {
     "name": "stderr",
     "output_type": "stream",
     "text": [
      "C:\\Users\\Kiran\\AppData\\Local\\Temp/ipykernel_14640/1288245536.py:3: FutureWarning: Passing a negative integer is deprecated in version 1.0 and will not be supported in future version. Instead, use None to not limit the column width.\n",
      "  pd.set_option('display.max_colwidth', -1)\n"
     ]
    }
   ],
   "source": [
    "pd.set_option('display.max_columns', 105)  \n",
    "pd.set_option('display.max_rows', 105) \n",
    "pd.set_option('display.max_colwidth', -1)  "
   ]
  },
  {
   "cell_type": "markdown",
   "id": "db743668",
   "metadata": {},
   "source": []
  },
  {
   "cell_type": "code",
   "execution_count": 4,
   "id": "c5bf29dd",
   "metadata": {},
   "outputs": [],
   "source": [
    "#Importing url link \n",
    "link = \"https://www.consumeraffairs.com/medical-alert-systems/medical-guardian.html#scroll_to_reviews=true\"\n",
    "response = requests.get(link)"
   ]
  },
  {
   "cell_type": "code",
   "execution_count": null,
   "id": "8e0e23aa",
   "metadata": {},
   "outputs": [],
   "source": []
  },
  {
   "cell_type": "code",
   "execution_count": 5,
   "id": "dcdc9dbf",
   "metadata": {
    "scrolled": false
   },
   "outputs": [
    {
     "name": "stdout",
     "output_type": "stream",
     "text": [
      "200\n"
     ]
    }
   ],
   "source": [
    "# Check the response status if successful to proceed further\n",
    "print(response.status_code)"
   ]
  },
  {
   "cell_type": "code",
   "execution_count": 6,
   "id": "782e56fc",
   "metadata": {},
   "outputs": [],
   "source": [
    "web_page_content = response.text\n",
    "\n",
    "with open('medical-alert-systems-reviews.html', \"w\", encoding=\"utf-8\") as html_file:\n",
    "    html_file.write(web_page_content)"
   ]
  },
  {
   "cell_type": "code",
   "execution_count": 7,
   "id": "d0122389",
   "metadata": {},
   "outputs": [
    {
     "data": {
      "text/plain": [
       "bs4.BeautifulSoup"
      ]
     },
     "execution_count": 7,
     "metadata": {},
     "output_type": "execute_result"
    }
   ],
   "source": [
    "with open ('medical-alert-systems-reviews.html', 'r', encoding=\"utf-8\") as html_file:\n",
    "    html_source_data = html_file.read()\n",
    "\n",
    "html_source_doc = BeautifulSoup(html_source_data,'html.parser')   \n",
    "type(html_source_doc)"
   ]
  },
  {
   "cell_type": "code",
   "execution_count": 8,
   "id": "b7382afb",
   "metadata": {},
   "outputs": [
    {
     "data": {
      "text/plain": [
       "12"
      ]
     },
     "execution_count": 8,
     "metadata": {},
     "output_type": "execute_result"
    }
   ],
   "source": [
    "div_tags = html_source_doc.find_all('div',class_ = 'rvw-aut__inf')\n",
    "len(div_tags)"
   ]
  },
  {
   "cell_type": "code",
   "execution_count": 9,
   "id": "8241c8b0",
   "metadata": {
    "scrolled": true
   },
   "outputs": [
    {
     "data": {
      "text/plain": [
       "['Karen of Sullivan, IN',\n",
       " 'Susan of Rothbury, Michigan',\n",
       " 'Frank of Westminster, CA',\n",
       " 'Blake of Star, ID',\n",
       " 'Linda of Glenwood, MD',\n",
       " 'Judith of Las Vegas, NV',\n",
       " 'Steve of Woodward, OK',\n",
       " 'Ila of Grass Valley, CA',\n",
       " 'Karen of Rowley, MA',\n",
       " 'Gina of South Bend, IN',\n",
       " 'Rita of Poiniana, FL',\n",
       " 'Lisa of Jacksonville, FL']"
      ]
     },
     "execution_count": 9,
     "metadata": {},
     "output_type": "execute_result"
    }
   ],
   "source": [
    "source_html_authors = html_source_doc.find_all('strong', class_='rvw-aut__inf-nm')\n",
    "\n",
    "# Name of Author\n",
    "author_names = []\n",
    "for tag in source_html_authors:\n",
    "    author_name = tag.find('span').text\n",
    "    author_names.append(author_name)\n",
    "\n",
    "author_names"
   ]
  },
  {
   "cell_type": "code",
   "execution_count": 10,
   "id": "7b16465c",
   "metadata": {},
   "outputs": [
    {
     "data": {
      "text/plain": [
       "12"
      ]
     },
     "execution_count": 10,
     "metadata": {},
     "output_type": "execute_result"
    }
   ],
   "source": [
    "len(author_names)"
   ]
  },
  {
   "cell_type": "code",
   "execution_count": 11,
   "id": "77102c9b",
   "metadata": {},
   "outputs": [
    {
     "data": {
      "text/plain": [
       "['The individuals I dealt with were very kind and answered questions so that I understood. I received the Medical Guardian equipment in a short period of time. I dropped it (in Indiana). One always wonders if there will be an immediate response if needed. I had one. While in Florida, I dropped it (arthritic hands). I received another immediate response. It is a great travel companion. I consider this purchase a success.',\n",
       " 'The device worked very well for my mother the choice of a necklace or a wrist band was very nice to have. It allowed her to stay independent much longer because if she fell help would be on the way immediately. They always called me at home to notify me that her device had been activated. Peace of mind... priceless.',\n",
       " \"I enjoyed using the Medical Guardian smartwatch. It does everything as advertised. I like being able to get the local temperature and knowing how many steps I've taken for my morning walks. Every product has room for improvement, I would hope to see features such as measuring your body temperature, your heart rate, blood pressure and blood oxygen.\",\n",
       " 'The customer service is excellent from purchasing to installing. The sales rep and customer service took their time, researched and made sure all tests were performed correctly. Unfortunately the fall button failed the test and they must send out a new one. I am still wearing it in case I do fall. It allows me to push the button, if I pass out it will be of no use. Customer service promptly shipped a new button to me. I would recommend Medical Guardian to others because of their fantastic customer service and the cost is reasonable. I did extensive research and Medical Guardian was always at the top of the recommendation list.',\n",
       " \"I've been very pleased so far. Had one mishap where accidentally hit the button and they responded immediately. A couple weeks ago, got a call from them to check on me... I hadn't done my own check to ensure the device was working so they called me to check I'll be going to England in Sept, so that will be the real test. We shall see. For now, I'm very pleased with it. It charges easily. I can wear it either on provided lanyard or clipped to my waist. Like both ways. Not too expensive either.\",\n",
       " 'I was looking for a medical device that I could have with fall alert protection. Medical Guardian is supplying me with this protection. I was not happy with the first equipment I received but when called to set up the system, I was told of optional pieces. I am now thrilled with my small pendant and the system. Hopefully I will only have to press the alarm button once a month for a test.',\n",
       " 'It is very easy to set up. We got both the wrist unit and the neck pendant, so if we get tired of one, we can switch. Three dollars more per month to add that option. We are pleased and will recommend it to our friends. I sure hope that Medical Guardian does not sell my phone number or e-mail!!! THAT would piss me off. !!!!',\n",
       " \"I have been trying to cancel my membership for over 6 weeks apparently no one cares once they got my money. Now, I'm fighting for a complete reimbursement of my money!! I want my money back!! I want my money back!! I want my money back!! ASAP.\",\n",
       " 'Our experience was great when we purchased this system. We thought we were all set and 90 year old mom felt safer in her own home. 2 years later she fell in her kitchen and pressed the button for 3 1/2 hours and got nothing. Thank God my brother came and found her. She broke her hip and is going to rehab but has expressed she is not safe at home because the device did not work. She would rather go to a nursing home than return home. ',\n",
       " 'Purchased a Medical Alert System for my mother, at the time 86. It was supposed to have \"fall protection\". After she fell, no detection, we were advised the one they sent us did not have the fall protection. I had been paying for that for almost 5 years. Last year they offered me a small credit. I always pay per year vs per month. Sadly, my mother passed away. Instead of refunding 4 months -- they told me the previous credit I was given offset any refund I would have gotten. Obviously --- they didn\\'t care why they had given me the previous credit. Also charged me a $50 restocking fee -- which no one conveniently mentioned. I prefer to not do business with companies who don\\'t treat customers fairly. I would not recommend Medical Guardian.',\n",
       " 'So far this unit has performed as stated. I like that the monitor is loud and easily heard. I have the additional fall monitor for my husband which enables me to go out to the pool or grocery store knowing if he falls, I will be contacted by phone.',\n",
       " 'When my dad died I notified them and was given a RMA to return the equipment. They received it 5 days later. I have provided the tracking number multiple times and they still have not processed my return almost 2 months after getting the equipment back. They are still billing me. I have contacted them several times and get a different story each time. They collected an additional payment and have not refunded it back to my card. The monitoring services were great but prepared for a nightmare when you try to cancel the service.']"
      ]
     },
     "execution_count": 11,
     "metadata": {},
     "output_type": "execute_result"
    }
   ],
   "source": [
    "div_tags2_review = html_source_doc.find_all('div', class_='rvw-bd')\n",
    "\n",
    "reviews=[]\n",
    "\n",
    "for review_tag in div_tags2_review:\n",
    "    review = review_tag.find('p').text\n",
    "    reviews.append(review)\n",
    "\n",
    "reviews "
   ]
  },
  {
   "cell_type": "code",
   "execution_count": null,
   "id": "cd7f6f05",
   "metadata": {},
   "outputs": [],
   "source": []
  },
  {
   "cell_type": "code",
   "execution_count": 12,
   "id": "2fa740cf",
   "metadata": {},
   "outputs": [
    {
     "data": {
      "text/plain": [
       "['Original review: March 12, 2022',\n",
       " 'Original review: April 1, 2021',\n",
       " 'Original review: Sept. 1, 2022',\n",
       " 'Original review: Aug. 5, 2022',\n",
       " 'Original review: July 25, 2022',\n",
       " 'Original review: Feb. 27, 2022',\n",
       " 'Original review: Feb. 7, 2022',\n",
       " 'Original review: Aug. 21, 2022',\n",
       " 'Original review: Aug. 8, 2022',\n",
       " 'Original review: July 11, 2022',\n",
       " 'Original review: July 7, 2022',\n",
       " 'Original review: June 18, 2022']"
      ]
     },
     "execution_count": 12,
     "metadata": {},
     "output_type": "execute_result"
    }
   ],
   "source": [
    "date_div = html_source_doc.find_all('div', class_='rvw-bd')\n",
    "# Date list for reviews \n",
    "dates=[]\n",
    "for pos_date in date_div:\n",
    "    date=pos_date.find('span').text\n",
    "    dates.append(date)\n",
    "dates "
   ]
  },
  {
   "cell_type": "code",
   "execution_count": 13,
   "id": "4117a9bf",
   "metadata": {},
   "outputs": [
    {
     "data": {
      "text/html": [
       "<div>\n",
       "<style scoped>\n",
       "    .dataframe tbody tr th:only-of-type {\n",
       "        vertical-align: middle;\n",
       "    }\n",
       "\n",
       "    .dataframe tbody tr th {\n",
       "        vertical-align: top;\n",
       "    }\n",
       "\n",
       "    .dataframe thead th {\n",
       "        text-align: right;\n",
       "    }\n",
       "</style>\n",
       "<table border=\"1\" class=\"dataframe\">\n",
       "  <thead>\n",
       "    <tr style=\"text-align: right;\">\n",
       "      <th></th>\n",
       "      <th>NAMES OF REVIEWERS</th>\n",
       "      <th>REVIEWS</th>\n",
       "      <th>DATE OF REVIEWS</th>\n",
       "    </tr>\n",
       "  </thead>\n",
       "  <tbody>\n",
       "    <tr>\n",
       "      <th>0</th>\n",
       "      <td>Karen of Sullivan, IN</td>\n",
       "      <td>The individuals I dealt with were very kind and answered questions so that I understood. I received the Medical Guardian equipment in a short period of time. I dropped it (in Indiana). One always wonders if there will be an immediate response if needed. I had one. While in Florida, I dropped it (arthritic hands). I received another immediate response. It is a great travel companion. I consider this purchase a success.</td>\n",
       "      <td>Original review: March 12, 2022</td>\n",
       "    </tr>\n",
       "    <tr>\n",
       "      <th>1</th>\n",
       "      <td>Susan of Rothbury, Michigan</td>\n",
       "      <td>The device worked very well for my mother the choice of a necklace or a wrist band was very nice to have. It allowed her to stay independent much longer because if she fell help would be on the way immediately. They always called me at home to notify me that her device had been activated. Peace of mind... priceless.</td>\n",
       "      <td>Original review: April 1, 2021</td>\n",
       "    </tr>\n",
       "    <tr>\n",
       "      <th>2</th>\n",
       "      <td>Frank of Westminster, CA</td>\n",
       "      <td>I enjoyed using the Medical Guardian smartwatch. It does everything as advertised. I like being able to get the local temperature and knowing how many steps I've taken for my morning walks. Every product has room for improvement, I would hope to see features such as measuring your body temperature, your heart rate, blood pressure and blood oxygen.</td>\n",
       "      <td>Original review: Sept. 1, 2022</td>\n",
       "    </tr>\n",
       "    <tr>\n",
       "      <th>3</th>\n",
       "      <td>Blake of Star, ID</td>\n",
       "      <td>The customer service is excellent from purchasing to installing. The sales rep and customer service took their time, researched and made sure all tests were performed correctly. Unfortunately the fall button failed the test and they must send out a new one. I am still wearing it in case I do fall. It allows me to push the button, if I pass out it will be of no use. Customer service promptly shipped a new button to me. I would recommend Medical Guardian to others because of their fantastic customer service and the cost is reasonable. I did extensive research and Medical Guardian was always at the top of the recommendation list.</td>\n",
       "      <td>Original review: Aug. 5, 2022</td>\n",
       "    </tr>\n",
       "    <tr>\n",
       "      <th>4</th>\n",
       "      <td>Linda of Glenwood, MD</td>\n",
       "      <td>I've been very pleased so far. Had one mishap where accidentally hit the button and they responded immediately. A couple weeks ago, got a call from them to check on me... I hadn't done my own check to ensure the device was working so they called me to check I'll be going to England in Sept, so that will be the real test. We shall see. For now, I'm very pleased with it. It charges easily. I can wear it either on provided lanyard or clipped to my waist. Like both ways. Not too expensive either.</td>\n",
       "      <td>Original review: July 25, 2022</td>\n",
       "    </tr>\n",
       "    <tr>\n",
       "      <th>5</th>\n",
       "      <td>Judith of Las Vegas, NV</td>\n",
       "      <td>I was looking for a medical device that I could have with fall alert protection. Medical Guardian is supplying me with this protection. I was not happy with the first equipment I received but when called to set up the system, I was told of optional pieces. I am now thrilled with my small pendant and the system. Hopefully I will only have to press the alarm button once a month for a test.</td>\n",
       "      <td>Original review: Feb. 27, 2022</td>\n",
       "    </tr>\n",
       "    <tr>\n",
       "      <th>6</th>\n",
       "      <td>Steve of Woodward, OK</td>\n",
       "      <td>It is very easy to set up. We got both the wrist unit and the neck pendant, so if we get tired of one, we can switch. Three dollars more per month to add that option. We are pleased and will recommend it to our friends. I sure hope that Medical Guardian does not sell my phone number or e-mail!!! THAT would piss me off. !!!!</td>\n",
       "      <td>Original review: Feb. 7, 2022</td>\n",
       "    </tr>\n",
       "    <tr>\n",
       "      <th>7</th>\n",
       "      <td>Ila of Grass Valley, CA</td>\n",
       "      <td>I have been trying to cancel my membership for over 6 weeks apparently no one cares once they got my money. Now, I'm fighting for a complete reimbursement of my money!! I want my money back!! I want my money back!! I want my money back!! ASAP.</td>\n",
       "      <td>Original review: Aug. 21, 2022</td>\n",
       "    </tr>\n",
       "    <tr>\n",
       "      <th>8</th>\n",
       "      <td>Karen of Rowley, MA</td>\n",
       "      <td>Our experience was great when we purchased this system. We thought we were all set and 90 year old mom felt safer in her own home. 2 years later she fell in her kitchen and pressed the button for 3 1/2 hours and got nothing. Thank God my brother came and found her. She broke her hip and is going to rehab but has expressed she is not safe at home because the device did not work. She would rather go to a nursing home than return home.</td>\n",
       "      <td>Original review: Aug. 8, 2022</td>\n",
       "    </tr>\n",
       "    <tr>\n",
       "      <th>9</th>\n",
       "      <td>Gina of South Bend, IN</td>\n",
       "      <td>Purchased a Medical Alert System for my mother, at the time 86. It was supposed to have \"fall protection\". After she fell, no detection, we were advised the one they sent us did not have the fall protection. I had been paying for that for almost 5 years. Last year they offered me a small credit. I always pay per year vs per month. Sadly, my mother passed away. Instead of refunding 4 months -- they told me the previous credit I was given offset any refund I would have gotten. Obviously --- they didn't care why they had given me the previous credit. Also charged me a $50 restocking fee -- which no one conveniently mentioned. I prefer to not do business with companies who don't treat customers fairly. I would not recommend Medical Guardian.</td>\n",
       "      <td>Original review: July 11, 2022</td>\n",
       "    </tr>\n",
       "    <tr>\n",
       "      <th>10</th>\n",
       "      <td>Rita of Poiniana, FL</td>\n",
       "      <td>So far this unit has performed as stated. I like that the monitor is loud and easily heard. I have the additional fall monitor for my husband which enables me to go out to the pool or grocery store knowing if he falls, I will be contacted by phone.</td>\n",
       "      <td>Original review: July 7, 2022</td>\n",
       "    </tr>\n",
       "    <tr>\n",
       "      <th>11</th>\n",
       "      <td>Lisa of Jacksonville, FL</td>\n",
       "      <td>When my dad died I notified them and was given a RMA to return the equipment. They received it 5 days later. I have provided the tracking number multiple times and they still have not processed my return almost 2 months after getting the equipment back. They are still billing me. I have contacted them several times and get a different story each time. They collected an additional payment and have not refunded it back to my card. The monitoring services were great but prepared for a nightmare when you try to cancel the service.</td>\n",
       "      <td>Original review: June 18, 2022</td>\n",
       "    </tr>\n",
       "  </tbody>\n",
       "</table>\n",
       "</div>"
      ],
      "text/plain": [
       "             NAMES OF REVIEWERS  \\\n",
       "0   Karen of Sullivan, IN         \n",
       "1   Susan of Rothbury, Michigan   \n",
       "2   Frank of Westminster, CA      \n",
       "3   Blake of Star, ID             \n",
       "4   Linda of Glenwood, MD         \n",
       "5   Judith of Las Vegas, NV       \n",
       "6   Steve of Woodward, OK         \n",
       "7   Ila of Grass Valley, CA       \n",
       "8   Karen of Rowley, MA           \n",
       "9   Gina of South Bend, IN        \n",
       "10  Rita of Poiniana, FL          \n",
       "11  Lisa of Jacksonville, FL      \n",
       "\n",
       "                                                                                                                                                                                                                                                                                                                                                                                                                                                                                                                                                                                                                                                                                                                                                                        REVIEWS  \\\n",
       "0   The individuals I dealt with were very kind and answered questions so that I understood. I received the Medical Guardian equipment in a short period of time. I dropped it (in Indiana). One always wonders if there will be an immediate response if needed. I had one. While in Florida, I dropped it (arthritic hands). I received another immediate response. It is a great travel companion. I consider this purchase a success.                                                                                                                                                                                                                                                                                                                                         \n",
       "1   The device worked very well for my mother the choice of a necklace or a wrist band was very nice to have. It allowed her to stay independent much longer because if she fell help would be on the way immediately. They always called me at home to notify me that her device had been activated. Peace of mind... priceless.                                                                                                                                                                                                                                                                                                                                                                                                                                                 \n",
       "2   I enjoyed using the Medical Guardian smartwatch. It does everything as advertised. I like being able to get the local temperature and knowing how many steps I've taken for my morning walks. Every product has room for improvement, I would hope to see features such as measuring your body temperature, your heart rate, blood pressure and blood oxygen.                                                                                                                                                                                                                                                                                                                                                                                                                 \n",
       "3   The customer service is excellent from purchasing to installing. The sales rep and customer service took their time, researched and made sure all tests were performed correctly. Unfortunately the fall button failed the test and they must send out a new one. I am still wearing it in case I do fall. It allows me to push the button, if I pass out it will be of no use. Customer service promptly shipped a new button to me. I would recommend Medical Guardian to others because of their fantastic customer service and the cost is reasonable. I did extensive research and Medical Guardian was always at the top of the recommendation list.                                                                                                                    \n",
       "4   I've been very pleased so far. Had one mishap where accidentally hit the button and they responded immediately. A couple weeks ago, got a call from them to check on me... I hadn't done my own check to ensure the device was working so they called me to check I'll be going to England in Sept, so that will be the real test. We shall see. For now, I'm very pleased with it. It charges easily. I can wear it either on provided lanyard or clipped to my waist. Like both ways. Not too expensive either.                                                                                                                                                                                                                                                             \n",
       "5   I was looking for a medical device that I could have with fall alert protection. Medical Guardian is supplying me with this protection. I was not happy with the first equipment I received but when called to set up the system, I was told of optional pieces. I am now thrilled with my small pendant and the system. Hopefully I will only have to press the alarm button once a month for a test.                                                                                                                                                                                                                                                                                                                                                                        \n",
       "6   It is very easy to set up. We got both the wrist unit and the neck pendant, so if we get tired of one, we can switch. Three dollars more per month to add that option. We are pleased and will recommend it to our friends. I sure hope that Medical Guardian does not sell my phone number or e-mail!!! THAT would piss me off. !!!!                                                                                                                                                                                                                                                                                                                                                                                                                                         \n",
       "7   I have been trying to cancel my membership for over 6 weeks apparently no one cares once they got my money. Now, I'm fighting for a complete reimbursement of my money!! I want my money back!! I want my money back!! I want my money back!! ASAP.                                                                                                                                                                                                                                                                                                                                                                                                                                                                                                                           \n",
       "8   Our experience was great when we purchased this system. We thought we were all set and 90 year old mom felt safer in her own home. 2 years later she fell in her kitchen and pressed the button for 3 1/2 hours and got nothing. Thank God my brother came and found her. She broke her hip and is going to rehab but has expressed she is not safe at home because the device did not work. She would rather go to a nursing home than return home.                                                                                                                                                                                                                                                                                                                          \n",
       "9   Purchased a Medical Alert System for my mother, at the time 86. It was supposed to have \"fall protection\". After she fell, no detection, we were advised the one they sent us did not have the fall protection. I had been paying for that for almost 5 years. Last year they offered me a small credit. I always pay per year vs per month. Sadly, my mother passed away. Instead of refunding 4 months -- they told me the previous credit I was given offset any refund I would have gotten. Obviously --- they didn't care why they had given me the previous credit. Also charged me a $50 restocking fee -- which no one conveniently mentioned. I prefer to not do business with companies who don't treat customers fairly. I would not recommend Medical Guardian.   \n",
       "10  So far this unit has performed as stated. I like that the monitor is loud and easily heard. I have the additional fall monitor for my husband which enables me to go out to the pool or grocery store knowing if he falls, I will be contacted by phone.                                                                                                                                                                                                                                                                                                                                                                                                                                                                                                                      \n",
       "11  When my dad died I notified them and was given a RMA to return the equipment. They received it 5 days later. I have provided the tracking number multiple times and they still have not processed my return almost 2 months after getting the equipment back. They are still billing me. I have contacted them several times and get a different story each time. They collected an additional payment and have not refunded it back to my card. The monitoring services were great but prepared for a nightmare when you try to cancel the service.                                                                                                                                                                                                                          \n",
       "\n",
       "                    DATE OF REVIEWS  \n",
       "0   Original review: March 12, 2022  \n",
       "1   Original review: April 1, 2021   \n",
       "2   Original review: Sept. 1, 2022   \n",
       "3   Original review: Aug. 5, 2022    \n",
       "4   Original review: July 25, 2022   \n",
       "5   Original review: Feb. 27, 2022   \n",
       "6   Original review: Feb. 7, 2022    \n",
       "7   Original review: Aug. 21, 2022   \n",
       "8   Original review: Aug. 8, 2022    \n",
       "9   Original review: July 11, 2022   \n",
       "10  Original review: July 7, 2022    \n",
       "11  Original review: June 18, 2022   "
      ]
     },
     "execution_count": 13,
     "metadata": {},
     "output_type": "execute_result"
    }
   ],
   "source": [
    "customer_reviews = pd.DataFrame({\n",
    "    \"NAMES OF REVIEWERS\": author_names,\n",
    "    \"REVIEWS\": reviews,\n",
    "    \"DATE OF REVIEWS\": dates,\n",
    "})\n",
    "customer_reviews"
   ]
  },
  {
   "cell_type": "code",
   "execution_count": null,
   "id": "4ff2c9dd",
   "metadata": {},
   "outputs": [],
   "source": []
  },
  {
   "cell_type": "code",
   "execution_count": 14,
   "id": "494659bc",
   "metadata": {},
   "outputs": [],
   "source": [
    "customer_reviews.to_csv('medical-alert-systems-reviews.csv',index=False)"
   ]
  },
  {
   "cell_type": "markdown",
   "id": "b73f87cf",
   "metadata": {},
   "source": [
    "##### Function to parse the links and get reviews in file"
   ]
  },
  {
   "cell_type": "code",
   "execution_count": 15,
   "id": "04de8bca",
   "metadata": {},
   "outputs": [],
   "source": [
    "def scrape_reviews(link,n,sleep_time):\n",
    "    print(\"Pages: \",n-2)\n",
    "    for i in range(2,n):\n",
    "        sleep(sleep_time)\n",
    "        print(i)\n",
    "        new_link = link.format(i)\n",
    "        print(\"URL: \", new_link)\n",
    "        response = requests.get(new_link)\n",
    "        web_page_content = response.text\n",
    "\n",
    "        with open('medical-alert-systems-reviews.html', \"w\", encoding=\"utf-8\") as html_file:\n",
    "            html_file.write(web_page_content)\n",
    "        with open ('medical-alert-systems-reviews.html', 'r', encoding=\"utf-8\") as html_file:\n",
    "            html_source_data = html_file.read()\n",
    "\n",
    "        html_source_doc = BeautifulSoup(html_source_data,'html.parser')   \n",
    "        type(html_source_doc)\n",
    "        div_tags = html_source_doc.find_all('div',class_ = 'rvw-aut__inf')\n",
    "        source_html_authors = html_source_doc.find_all('strong', class_='rvw-aut__inf-nm')\n",
    "\n",
    "        # Name of Author\n",
    "        author_names = []\n",
    "        for tag in source_html_authors:\n",
    "            author_name = tag.find('span').text\n",
    "            author_names.append(author_name)\n",
    "        \n",
    "        div_tags2_review = html_source_doc.find_all('div', class_='rvw-bd')\n",
    "\n",
    "        reviews=[]\n",
    "\n",
    "        for review_tag in div_tags2_review:\n",
    "            review = review_tag.find('p').text\n",
    "            reviews.append(review)\n",
    "        date_div = html_source_doc.find_all('div', class_='rvw-bd')\n",
    "        # Date list for reviews \n",
    "        dates=[]\n",
    "        for pos_date in date_div:\n",
    "            date=pos_date.find('span').text\n",
    "            dates.append(date)\n",
    "        print(len(author_names))\n",
    "        print(len(reviews))\n",
    "        print(len(dates))\n",
    "        customer_reviews = pd.DataFrame({\n",
    "            \"NAMES OF REVIEWERS\": author_names,\n",
    "            \"REVIEWS\": reviews,\n",
    "            \"DATE OF REVIEWS\": dates,\n",
    "        })\n",
    "        customer_reviews.to_csv('medical-alert-systems-reviews.csv', mode='a', header=False,index=False)"
   ]
  },
  {
   "cell_type": "code",
   "execution_count": null,
   "id": "0c54c6b6",
   "metadata": {},
   "outputs": [],
   "source": []
  },
  {
   "cell_type": "code",
   "execution_count": 16,
   "id": "d3ded06c",
   "metadata": {
    "scrolled": false
   },
   "outputs": [
    {
     "name": "stdout",
     "output_type": "stream",
     "text": [
      "Pages:  32\n",
      "2\n",
      "URL:  https://www.consumeraffairs.com/medical-alert-systems/medical-guardian.html?page=2#scroll_to_reviews=true\n",
      "30\n",
      "30\n",
      "30\n",
      "3\n",
      "URL:  https://www.consumeraffairs.com/medical-alert-systems/medical-guardian.html?page=3#scroll_to_reviews=true\n",
      "30\n",
      "30\n",
      "30\n",
      "4\n",
      "URL:  https://www.consumeraffairs.com/medical-alert-systems/medical-guardian.html?page=4#scroll_to_reviews=true\n",
      "30\n",
      "30\n",
      "30\n",
      "5\n",
      "URL:  https://www.consumeraffairs.com/medical-alert-systems/medical-guardian.html?page=5#scroll_to_reviews=true\n",
      "30\n",
      "30\n",
      "30\n",
      "6\n",
      "URL:  https://www.consumeraffairs.com/medical-alert-systems/medical-guardian.html?page=6#scroll_to_reviews=true\n",
      "30\n",
      "30\n",
      "30\n",
      "7\n",
      "URL:  https://www.consumeraffairs.com/medical-alert-systems/medical-guardian.html?page=7#scroll_to_reviews=true\n",
      "30\n",
      "30\n",
      "30\n",
      "8\n",
      "URL:  https://www.consumeraffairs.com/medical-alert-systems/medical-guardian.html?page=8#scroll_to_reviews=true\n",
      "30\n",
      "30\n",
      "30\n",
      "9\n",
      "URL:  https://www.consumeraffairs.com/medical-alert-systems/medical-guardian.html?page=9#scroll_to_reviews=true\n",
      "30\n",
      "30\n",
      "30\n",
      "10\n",
      "URL:  https://www.consumeraffairs.com/medical-alert-systems/medical-guardian.html?page=10#scroll_to_reviews=true\n",
      "30\n",
      "30\n",
      "30\n",
      "11\n",
      "URL:  https://www.consumeraffairs.com/medical-alert-systems/medical-guardian.html?page=11#scroll_to_reviews=true\n",
      "30\n",
      "30\n",
      "30\n",
      "12\n",
      "URL:  https://www.consumeraffairs.com/medical-alert-systems/medical-guardian.html?page=12#scroll_to_reviews=true\n",
      "30\n",
      "30\n",
      "30\n",
      "13\n",
      "URL:  https://www.consumeraffairs.com/medical-alert-systems/medical-guardian.html?page=13#scroll_to_reviews=true\n",
      "30\n",
      "30\n",
      "30\n",
      "14\n",
      "URL:  https://www.consumeraffairs.com/medical-alert-systems/medical-guardian.html?page=14#scroll_to_reviews=true\n",
      "30\n",
      "30\n",
      "30\n",
      "15\n",
      "URL:  https://www.consumeraffairs.com/medical-alert-systems/medical-guardian.html?page=15#scroll_to_reviews=true\n",
      "30\n",
      "30\n",
      "30\n",
      "16\n",
      "URL:  https://www.consumeraffairs.com/medical-alert-systems/medical-guardian.html?page=16#scroll_to_reviews=true\n",
      "30\n",
      "30\n",
      "30\n",
      "17\n",
      "URL:  https://www.consumeraffairs.com/medical-alert-systems/medical-guardian.html?page=17#scroll_to_reviews=true\n",
      "30\n",
      "30\n",
      "30\n",
      "18\n",
      "URL:  https://www.consumeraffairs.com/medical-alert-systems/medical-guardian.html?page=18#scroll_to_reviews=true\n",
      "30\n",
      "30\n",
      "30\n",
      "19\n",
      "URL:  https://www.consumeraffairs.com/medical-alert-systems/medical-guardian.html?page=19#scroll_to_reviews=true\n",
      "30\n",
      "30\n",
      "30\n",
      "20\n",
      "URL:  https://www.consumeraffairs.com/medical-alert-systems/medical-guardian.html?page=20#scroll_to_reviews=true\n",
      "30\n",
      "30\n",
      "30\n",
      "21\n",
      "URL:  https://www.consumeraffairs.com/medical-alert-systems/medical-guardian.html?page=21#scroll_to_reviews=true\n",
      "30\n",
      "30\n",
      "30\n",
      "22\n",
      "URL:  https://www.consumeraffairs.com/medical-alert-systems/medical-guardian.html?page=22#scroll_to_reviews=true\n",
      "30\n",
      "30\n",
      "30\n",
      "23\n",
      "URL:  https://www.consumeraffairs.com/medical-alert-systems/medical-guardian.html?page=23#scroll_to_reviews=true\n",
      "30\n",
      "30\n",
      "30\n",
      "24\n",
      "URL:  https://www.consumeraffairs.com/medical-alert-systems/medical-guardian.html?page=24#scroll_to_reviews=true\n",
      "30\n",
      "30\n",
      "30\n",
      "25\n",
      "URL:  https://www.consumeraffairs.com/medical-alert-systems/medical-guardian.html?page=25#scroll_to_reviews=true\n",
      "30\n",
      "30\n",
      "30\n",
      "26\n",
      "URL:  https://www.consumeraffairs.com/medical-alert-systems/medical-guardian.html?page=26#scroll_to_reviews=true\n",
      "30\n",
      "30\n",
      "30\n",
      "27\n",
      "URL:  https://www.consumeraffairs.com/medical-alert-systems/medical-guardian.html?page=27#scroll_to_reviews=true\n",
      "30\n",
      "30\n",
      "30\n",
      "28\n",
      "URL:  https://www.consumeraffairs.com/medical-alert-systems/medical-guardian.html?page=28#scroll_to_reviews=true\n",
      "30\n",
      "30\n",
      "30\n",
      "29\n",
      "URL:  https://www.consumeraffairs.com/medical-alert-systems/medical-guardian.html?page=29#scroll_to_reviews=true\n",
      "30\n",
      "30\n",
      "30\n",
      "30\n",
      "URL:  https://www.consumeraffairs.com/medical-alert-systems/medical-guardian.html?page=30#scroll_to_reviews=true\n",
      "30\n",
      "30\n",
      "30\n",
      "31\n",
      "URL:  https://www.consumeraffairs.com/medical-alert-systems/medical-guardian.html?page=31#scroll_to_reviews=true\n",
      "30\n",
      "30\n",
      "30\n",
      "32\n",
      "URL:  https://www.consumeraffairs.com/medical-alert-systems/medical-guardian.html?page=32#scroll_to_reviews=true\n",
      "30\n",
      "30\n",
      "30\n",
      "33\n",
      "URL:  https://www.consumeraffairs.com/medical-alert-systems/medical-guardian.html?page=33#scroll_to_reviews=true\n",
      "23\n",
      "23\n",
      "23\n"
     ]
    }
   ],
   "source": [
    "scrape_reviews('https://www.consumeraffairs.com/medical-alert-systems/medical-guardian.html?page={}#scroll_to_reviews=true', \n",
    "               34, sleep_time = 0.3)"
   ]
  },
  {
   "cell_type": "code",
   "execution_count": null,
   "id": "715cf0aa",
   "metadata": {},
   "outputs": [],
   "source": []
  },
  {
   "cell_type": "code",
   "execution_count": null,
   "id": "dfc60bd4",
   "metadata": {},
   "outputs": [],
   "source": []
  },
  {
   "cell_type": "code",
   "execution_count": null,
   "id": "f92bcfe9",
   "metadata": {},
   "outputs": [],
   "source": []
  }
 ],
 "metadata": {
  "kernelspec": {
   "display_name": "Python 3 (ipykernel)",
   "language": "python",
   "name": "python3"
  },
  "language_info": {
   "codemirror_mode": {
    "name": "ipython",
    "version": 3
   },
   "file_extension": ".py",
   "mimetype": "text/x-python",
   "name": "python",
   "nbconvert_exporter": "python",
   "pygments_lexer": "ipython3",
   "version": "3.9.7"
  }
 },
 "nbformat": 4,
 "nbformat_minor": 5
}
